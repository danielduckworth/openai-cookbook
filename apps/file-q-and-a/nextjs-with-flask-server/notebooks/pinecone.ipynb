{
 "cells": [
  {
   "cell_type": "code",
   "execution_count": 7,
   "metadata": {},
   "outputs": [
    {
     "name": "stdout",
     "output_type": "stream",
     "text": [
      "https://op.icils.io\n",
      "https://op.icils.io\n"
     ]
    }
   ],
   "source": [
    "# https://github.com/1Password/connect-sdk-python\n",
    "\n",
    "import os\n",
    "from getpass import getpass\n",
    "from onepasswordconnectsdk.client import Client, new_client_from_environment, new_client\n",
    "\n",
    "\n",
    "os.environ[\"OP_CONNECT_HOST\"] = \"https://op.icils.io\"\n",
    "os.environ[\"OP_CONNECT_TOKEN\"] = getpass(\"Enter your OP Connect Token: \")\n",
    "\n",
    "OP_CONNECT_HOST = os.getenv(\"OP_CONNECT_HOST\")\n",
    "OP_CONNECT_TOKEN = os.getenv(\"OP_CONNECT_TOKEN\")\n",
    "\n",
    "print(os.environ[\"OP_CONNECT_HOST\"])\n",
    "print(OP_CONNECT_HOST)\n",
    "# print(os.environ[\"OP_CONNECT_TOKEN\"])\n",
    "\n",
    "# creating client using OP_CONNECT_TOKEN and OP_CONNECT_HOST environment variables\n",
    "client_from_env: Client = new_client_from_environment()\n",
    "\n",
    "# TODO: Check DO firewall settings\n",
    "\n",
    "vault_id = \"3wuvz4qu4ty424vjwkgbws7ck4\"\n",
    "item_id = \"457q4crnxlh6popvqiciibjrlm\"\n",
    "\n",
    "# client_from_env.get_item(\"{item_id}\", \"{vault_id}\")\n",
    "\n",
    "client_from_env.get_items(vault_id)\n"
   ]
  },
  {
   "cell_type": "code",
   "execution_count": null,
   "metadata": {},
   "outputs": [],
   "source": [
    "import pinecone\n",
    "\n",
    "PINECONE_KEY = \"op://3wuvz4qu4ty424vjwkgbws7ck4/2axasr3pxatvopb6zz3s5yp5le/api_key\"\n",
    "\n",
    "PINECONE_KEY = os.getenv(\"PINECONE_KEY\")\n",
    "\n",
    "pinecone.init(api_key=PINECONE_KEY, environment=\"northamerica-northeast1-gcp\")\n",
    "\n",
    "index_description = pinecone.describe_index(\"isco-08-definitions\")\n",
    "\n",
    "print(index_description)\n"
   ]
  },
  {
   "attachments": {},
   "cell_type": "markdown",
   "metadata": {},
   "source": [
    "Authenticating cloud storage datasets\n",
    "\n",
    "```bash\n",
    "export PINECONE_DATASETS_ENDPOINT=\"s3://my-bucket\"\n",
    "```"
   ]
  },
  {
   "cell_type": "code",
   "execution_count": 1,
   "metadata": {},
   "outputs": [
    {
     "name": "stderr",
     "output_type": "stream",
     "text": [
      "/workspaces/openai-cookbook/apps/file-q-and-a/nextjs-with-flask-server/server/venv/lib/python3.10/site-packages/tqdm/auto.py:21: TqdmWarning: IProgress not found. Please update jupyter and ipywidgets. See https://ipywidgets.readthedocs.io/en/stable/user_install.html\n",
      "  from .autonotebook import tqdm as notebook_tqdm\n"
     ]
    },
    {
     "ename": "ImportError",
     "evalue": "cannot import name 'GRPCIndex' from 'pinecone' (/workspaces/openai-cookbook/apps/file-q-and-a/nextjs-with-flask-server/server/venv/lib/python3.10/site-packages/pinecone/__init__.py)",
     "output_type": "error",
     "traceback": [
      "\u001b[0;31m---------------------------------------------------------------------------\u001b[0m",
      "\u001b[0;31mImportError\u001b[0m                               Traceback (most recent call last)",
      "Cell \u001b[0;32mIn[1], line 1\u001b[0m\n\u001b[0;32m----> 1\u001b[0m \u001b[39mfrom\u001b[39;00m \u001b[39mpinecone_datasets\u001b[39;00m \u001b[39mimport\u001b[39;00m list_datasets\n",
      "File \u001b[0;32m/workspaces/openai-cookbook/apps/file-q-and-a/nextjs-with-flask-server/server/venv/lib/python3.10/site-packages/pinecone_datasets/__init__.py:7\u001b[0m\n\u001b[1;32m      1\u001b[0m \u001b[39m\"\"\"\u001b[39;00m\n\u001b[1;32m      2\u001b[0m \u001b[39m.. include:: ../README.md\u001b[39;00m\n\u001b[1;32m      3\u001b[0m \u001b[39m\"\"\"\u001b[39;00m\n\u001b[1;32m      5\u001b[0m __version__ \u001b[39m=\u001b[39m \u001b[39m\"\u001b[39m\u001b[39m0.5.0-rc.8\u001b[39m\u001b[39m\"\u001b[39m\n\u001b[0;32m----> 7\u001b[0m \u001b[39mfrom\u001b[39;00m \u001b[39m.\u001b[39;00m\u001b[39mdataset\u001b[39;00m \u001b[39mimport\u001b[39;00m Dataset\n\u001b[1;32m      8\u001b[0m \u001b[39mfrom\u001b[39;00m \u001b[39m.\u001b[39;00m\u001b[39mpublic\u001b[39;00m \u001b[39mimport\u001b[39;00m list_datasets, load_dataset\n\u001b[1;32m      9\u001b[0m \u001b[39mfrom\u001b[39;00m \u001b[39m.\u001b[39;00m\u001b[39mcatalog\u001b[39;00m \u001b[39mimport\u001b[39;00m DatasetMetadata, DenseModelMetadata\n",
      "File \u001b[0;32m/workspaces/openai-cookbook/apps/file-q-and-a/nextjs-with-flask-server/server/venv/lib/python3.10/site-packages/pinecone_datasets/dataset.py:29\u001b[0m\n\u001b[1;32m     27\u001b[0m \u001b[39melif\u001b[39;00m version(\u001b[39m\"\u001b[39m\u001b[39mpinecone-client\u001b[39m\u001b[39m\"\u001b[39m)\u001b[39m.\u001b[39mstartswith(\u001b[39m\"\u001b[39m\u001b[39m2\u001b[39m\u001b[39m\"\u001b[39m):\n\u001b[1;32m     28\u001b[0m     \u001b[39mimport\u001b[39;00m \u001b[39mpinecone\u001b[39;00m \u001b[39mas\u001b[39;00m \u001b[39mpc\u001b[39;00m\n\u001b[0;32m---> 29\u001b[0m     \u001b[39mfrom\u001b[39;00m \u001b[39mpinecone\u001b[39;00m \u001b[39mimport\u001b[39;00m GRPCIndex \u001b[39mas\u001b[39;00m Index\n\u001b[1;32m     30\u001b[0m \u001b[39melse\u001b[39;00m:\n\u001b[1;32m     31\u001b[0m     warnings\u001b[39m.\u001b[39mwarn(\n\u001b[1;32m     32\u001b[0m         message\u001b[39m=\u001b[39m\u001b[39m\"\u001b[39m\u001b[39mPinecone client version not supported or non-existent,\u001b[39m\u001b[39m\"\u001b[39m\n\u001b[1;32m     33\u001b[0m         \u001b[39m+\u001b[39m \u001b[39m\"\u001b[39m\u001b[39mplease use pip ineall pinecone-client to install v2 or \u001b[39m\u001b[39m\"\u001b[39m\n\u001b[1;32m     34\u001b[0m         \u001b[39m+\u001b[39m \u001b[39m\"\u001b[39m\u001b[39mpip install pinecone-datasets[clientv3] to install v3\u001b[39m\u001b[39m\"\u001b[39m\n\u001b[1;32m     35\u001b[0m     )\n",
      "\u001b[0;31mImportError\u001b[0m: cannot import name 'GRPCIndex' from 'pinecone' (/workspaces/openai-cookbook/apps/file-q-and-a/nextjs-with-flask-server/server/venv/lib/python3.10/site-packages/pinecone/__init__.py)"
     ]
    }
   ],
   "source": [
    "from pinecone_datasets import list_datasets\n"
   ]
  },
  {
   "cell_type": "code",
   "execution_count": null,
   "metadata": {},
   "outputs": [],
   "source": [
    "from pinecone_datasets.catalog import DatasetMetadata\n",
    "\n",
    "st = list_datasets(\n",
    "    key=os.environ.get(\"S3_ACCESS_KEY\"),\n",
    "    secret=os.environ.get(\"S3_SECRET\"),\n",
    ")\n",
    "\n",
    "ds = load_dataset(\n",
    "    \"test_dataset\",\n",
    "    key=os.environ.get(\"S3_ACCESS_KEY\"),\n",
    "    secret=os.environ.get(\"S3_SECRET\"),\n",
    ")\n"
   ]
  }
 ],
 "metadata": {
  "kernelspec": {
   "display_name": "venv",
   "language": "python",
   "name": "python3"
  },
  "language_info": {
   "codemirror_mode": {
    "name": "ipython",
    "version": 3
   },
   "file_extension": ".py",
   "mimetype": "text/x-python",
   "name": "python",
   "nbconvert_exporter": "python",
   "pygments_lexer": "ipython3",
   "version": "3.10.11"
  },
  "orig_nbformat": 4
 },
 "nbformat": 4,
 "nbformat_minor": 2
}
